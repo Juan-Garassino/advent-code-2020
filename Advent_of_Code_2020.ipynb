{
  "nbformat": 4,
  "nbformat_minor": 0,
  "metadata": {
    "colab": {
      "name": "Advent of Code 2020.ipynb",
      "provenance": [],
      "collapsed_sections": [
        "uD5W11QjUvac",
        "-Tj39DFIqGFo",
        "QkTaPNgyqGFo"
      ]
    },
    "kernelspec": {
      "name": "python3",
      "display_name": "Python 3"
    }
  },
  "cells": [
    {
      "cell_type": "markdown",
      "metadata": {
        "id": "uD5W11QjUvac"
      },
      "source": [
        "# Imports"
      ]
    },
    {
      "cell_type": "code",
      "metadata": {
        "id": "k6ahChIsP32o"
      },
      "source": [
        "import numpy as np\r\n",
        "import pandas as pd"
      ],
      "execution_count": 1,
      "outputs": []
    },
    {
      "cell_type": "code",
      "metadata": {
        "colab": {
          "base_uri": "https://localhost:8080/"
        },
        "id": "wBOOyFCOJ4BP",
        "outputId": "e7c59a21-fdf1-486d-c6ec-7a504024dee4"
      },
      "source": [
        "from google.colab import drive\r\n",
        "drive.mount('drive')"
      ],
      "execution_count": 2,
      "outputs": [
        {
          "output_type": "stream",
          "text": [
            "Drive already mounted at drive; to attempt to forcibly remount, call drive.mount(\"drive\", force_remount=True).\n"
          ],
          "name": "stdout"
        }
      ]
    },
    {
      "cell_type": "markdown",
      "metadata": {
        "id": "xmcQ29qgOXbp"
      },
      "source": [
        "# Code Calendar"
      ]
    },
    {
      "cell_type": "markdown",
      "metadata": {
        "id": "bEx6D5KVOaNI"
      },
      "source": [
        "## Day 01 - Report Repair | Advent of Code 2020"
      ]
    },
    {
      "cell_type": "markdown",
      "metadata": {
        "id": "obBWJ6ltOebW"
      },
      "source": [
        "### Data"
      ]
    },
    {
      "cell_type": "code",
      "metadata": {
        "id": "QoabuHtQK8ir"
      },
      "source": [
        "with open(\"/content/drive/MyDrive/Data/AoC-2020/Day01.txt\") as file: # Use file to refer to the file object\r\n",
        "    raw_data = file.read()\r\n",
        "\r\n",
        "years = []\r\n",
        "\r\n",
        "for year in raw_data.split(\"\\n\"):\r\n",
        "    years.append(int(year))"
      ],
      "execution_count": 3,
      "outputs": []
    },
    {
      "cell_type": "markdown",
      "metadata": {
        "id": "11clD_jMOcuc"
      },
      "source": [
        "### Solution"
      ]
    },
    {
      "cell_type": "code",
      "metadata": {
        "colab": {
          "base_uri": "https://localhost:8080/"
        },
        "id": "-FILsnBVO6Wt",
        "outputId": "6c768e40-8011-4880-c17f-4428ee085828"
      },
      "source": [
        "def solve(x):\r\n",
        "    years = set(x) #helper function to load a column integer vector from string\r\n",
        "    for first_year in years:\r\n",
        "        for second_year in years - {first_year}:\r\n",
        "            if first_year + second_year == 2020: # if the sum is 2020 finds makes the product of this 2 years\r\n",
        "                Part_1 = first_year * second_year\r\n",
        "\r\n",
        "            third_year = 2020 - first_year - second_year\r\n",
        "            if third_year in years: # if the third year is on the list makes the product of this 3 years\r\n",
        "                Part_2 = first_year * second_year * third_year\r\n",
        "    return Part_1, Part_2\r\n",
        "\r\n",
        "print(f\"The Answer to the Part 1 is: {solve(years)[0]}\")\r\n",
        "print(\"\\n\")\r\n",
        "print(f\"The Answer to the Part 2 is: {solve(years)[1]}\")\r\n"
      ],
      "execution_count": 4,
      "outputs": [
        {
          "output_type": "stream",
          "text": [
            "The Answer to the Part 1 is: 731731\n",
            "\n",
            "\n",
            "The Answer to the Part 2 is: 116115990\n"
          ],
          "name": "stdout"
        }
      ]
    },
    {
      "cell_type": "markdown",
      "metadata": {
        "id": "1lH3uZ9nOjIm"
      },
      "source": [
        "## Day 2: Password Philosophy | Advent of Code 2020"
      ]
    },
    {
      "cell_type": "markdown",
      "metadata": {
        "id": "XAtlSnJAOjhJ"
      },
      "source": [
        "### Data"
      ]
    },
    {
      "cell_type": "code",
      "metadata": {
        "id": "XEjwxY8aLDkk"
      },
      "source": [
        "with open(\"/content/drive/MyDrive/Data/AoC-2020/Day02.txt\") as file: # Use file to refer to the file object\r\n",
        "    raw_data = file.read()\r\n",
        "\r\n",
        "string = raw_data"
      ],
      "execution_count": 5,
      "outputs": []
    },
    {
      "cell_type": "markdown",
      "metadata": {
        "id": "gKjt6SapOtnG"
      },
      "source": [
        "### Solution"
      ]
    },
    {
      "cell_type": "code",
      "metadata": {
        "colab": {
          "base_uri": "https://localhost:8080/",
          "height": 204
        },
        "id": "9Wgtk8SYLfq_",
        "outputId": "fd7b2e64-7a1c-4516-8896-03f1ee7ecea2"
      },
      "source": [
        "def add_comma(x):\n",
        "    return ', '.join(x.split()) # or a_string.replace(' ', ', ')\n",
        "\n",
        "def to_list(x):\n",
        "    list_words = x.split(', ')\n",
        "    return list_words\n",
        "\n",
        "def makes_array(x):\n",
        "    return [[element] for element in x]\n",
        "\n",
        "#===========================================================================================\n",
        "\n",
        "def removes_punctuation(x):\n",
        "    return x.replace(\":\", '')\n",
        "\n",
        "def replace_punctuation(x):\n",
        "    return x.replace(\"-\", \" \")\n",
        "\n",
        "def creates_tuple(x):\n",
        "    return list(map(int, x.split(' ')))\n",
        "\n",
        "def count_repetition(x):\n",
        "    return x[2].count(x[1])\n",
        "\n",
        "def find_index(x):\n",
        "    indeces = [index for index, char in enumerate(x[2]) if char == x[1]]\n",
        "    return [(index+1) for index in indeces]\n",
        "\n",
        "def valid(x):\n",
        "    if x[3] in range(x[0][0], x[0][1]+1):\n",
        "        return True\n",
        "    else:\n",
        "        return False\n",
        "\n",
        "def last_validation(x):\n",
        "    if x[0][0] in x[5] and x[0][1] in x[5]:\n",
        "        return False \n",
        "    if x[0][0] in x[5] or x[0][1] in x[5]:\n",
        "        return True\n",
        "    else:\n",
        "        return False\n",
        "\n",
        "data = add_comma(string)\n",
        "\n",
        "data = to_list(data)\n",
        "\n",
        "data = makes_array(data)\n",
        "\n",
        "data = np.array(data)\n",
        "\n",
        "data = np.reshape(data, (1000,3))\n",
        "\n",
        "data = pd.DataFrame(data, columns = [\"Range\", \"Letter\", \"Password\"])\n",
        "\n",
        "data[\"Letter\"] = data.Letter.apply(removes_punctuation)\n",
        "\n",
        "data[\"Range\"] = data.Range.apply(replace_punctuation)\n",
        "\n",
        "data[\"Range\"] = data.Range.apply(creates_tuple)\n",
        "\n",
        "data[\"repetitions\"] = data.apply(count_repetition, axis=1)\n",
        "\n",
        "data[\"validity\"] = data.apply(valid, axis=1)\n",
        "\n",
        "data[\"indexes\"] = data.apply(find_index, axis = 1)\n",
        "\n",
        "data[\"last validation\"] = data.apply(last_validation, axis = 1)\n",
        "\n",
        "data.head(5)"
      ],
      "execution_count": 6,
      "outputs": [
        {
          "output_type": "execute_result",
          "data": {
            "text/html": [
              "<div>\n",
              "<style scoped>\n",
              "    .dataframe tbody tr th:only-of-type {\n",
              "        vertical-align: middle;\n",
              "    }\n",
              "\n",
              "    .dataframe tbody tr th {\n",
              "        vertical-align: top;\n",
              "    }\n",
              "\n",
              "    .dataframe thead th {\n",
              "        text-align: right;\n",
              "    }\n",
              "</style>\n",
              "<table border=\"1\" class=\"dataframe\">\n",
              "  <thead>\n",
              "    <tr style=\"text-align: right;\">\n",
              "      <th></th>\n",
              "      <th>Range</th>\n",
              "      <th>Letter</th>\n",
              "      <th>Password</th>\n",
              "      <th>repetitions</th>\n",
              "      <th>validity</th>\n",
              "      <th>indexes</th>\n",
              "      <th>last validation</th>\n",
              "    </tr>\n",
              "  </thead>\n",
              "  <tbody>\n",
              "    <tr>\n",
              "      <th>0</th>\n",
              "      <td>[1, 9]</td>\n",
              "      <td>x</td>\n",
              "      <td>xwjgxtmrzxzmkx</td>\n",
              "      <td>4</td>\n",
              "      <td>True</td>\n",
              "      <td>[1, 5, 10, 14]</td>\n",
              "      <td>True</td>\n",
              "    </tr>\n",
              "    <tr>\n",
              "      <th>1</th>\n",
              "      <td>[4, 6]</td>\n",
              "      <td>r</td>\n",
              "      <td>rrrkrgr</td>\n",
              "      <td>5</td>\n",
              "      <td>True</td>\n",
              "      <td>[1, 2, 3, 5, 7]</td>\n",
              "      <td>False</td>\n",
              "    </tr>\n",
              "    <tr>\n",
              "      <th>2</th>\n",
              "      <td>[4, 5]</td>\n",
              "      <td>v</td>\n",
              "      <td>vvfvvvn</td>\n",
              "      <td>5</td>\n",
              "      <td>True</td>\n",
              "      <td>[1, 2, 4, 5, 6]</td>\n",
              "      <td>False</td>\n",
              "    </tr>\n",
              "    <tr>\n",
              "      <th>3</th>\n",
              "      <td>[5, 16]</td>\n",
              "      <td>m</td>\n",
              "      <td>pxmrtmbmqmcldmmm</td>\n",
              "      <td>7</td>\n",
              "      <td>True</td>\n",
              "      <td>[3, 6, 8, 10, 14, 15, 16]</td>\n",
              "      <td>True</td>\n",
              "    </tr>\n",
              "    <tr>\n",
              "      <th>4</th>\n",
              "      <td>[15, 16]</td>\n",
              "      <td>s</td>\n",
              "      <td>bsshsszslssssslqdsss</td>\n",
              "      <td>13</td>\n",
              "      <td>False</td>\n",
              "      <td>[2, 3, 5, 6, 8, 10, 11, 12, 13, 14, 18, 19, 20]</td>\n",
              "      <td>False</td>\n",
              "    </tr>\n",
              "  </tbody>\n",
              "</table>\n",
              "</div>"
            ],
            "text/plain": [
              "      Range  ... last validation\n",
              "0    [1, 9]  ...            True\n",
              "1    [4, 6]  ...           False\n",
              "2    [4, 5]  ...           False\n",
              "3   [5, 16]  ...            True\n",
              "4  [15, 16]  ...           False\n",
              "\n",
              "[5 rows x 7 columns]"
            ]
          },
          "metadata": {
            "tags": []
          },
          "execution_count": 6
        }
      ]
    },
    {
      "cell_type": "code",
      "metadata": {
        "colab": {
          "base_uri": "https://localhost:8080/"
        },
        "id": "TVCU80FZSu3C",
        "outputId": "84b41d0b-9874-4d70-c241-5a9800f15bc8"
      },
      "source": [
        "print(f\"The Answer to the Part 1 is: {data['validity'].values.sum()}\")\r\n",
        "print(\"\\n\")\r\n",
        "print(f\"The Answer to the Part 2 is: {data['last validation'].values.sum()}\")"
      ],
      "execution_count": 7,
      "outputs": [
        {
          "output_type": "stream",
          "text": [
            "The Answer to the Part 1 is: 640\n",
            "\n",
            "\n",
            "The Answer to the Part 2 is: 472\n"
          ],
          "name": "stdout"
        }
      ]
    },
    {
      "cell_type": "markdown",
      "metadata": {
        "id": "VAQq7qMNOyzk"
      },
      "source": [
        "## Day 3: Toboggan Trajectory | Advent of Code 2020"
      ]
    },
    {
      "cell_type": "markdown",
      "metadata": {
        "id": "m0QwgBeDBaGy"
      },
      "source": [
        "### Data"
      ]
    },
    {
      "cell_type": "code",
      "metadata": {
        "id": "Lrqo0ZhgTI0P"
      },
      "source": [
        "with open(\"/content/drive/MyDrive/Data/AoC-2020/Day03.txt\") as file: # Use file to refer to the file object\r\n",
        "    raw_data = file.read()\r\n",
        "\r\n",
        "map = np.array([list(element) for element in [portion for portion in raw_data.split(\"\\n\")]]) # returns its own after slipting per line, then returns its own after spliting per element"
      ],
      "execution_count": 8,
      "outputs": []
    },
    {
      "cell_type": "markdown",
      "metadata": {
        "id": "I7VoInANBdE3"
      },
      "source": [
        "### Solution"
      ]
    },
    {
      "cell_type": "code",
      "metadata": {
        "colab": {
          "base_uri": "https://localhost:8080/"
        },
        "id": "h2WXmxpeBdRO",
        "outputId": "8e9810b4-7b6e-4d4b-bc71-e79b95b0ac13"
      },
      "source": [
        "def count_trees(x, right, down):\n",
        "    # Set the Variables to 0\n",
        "    number_of_paths = 0\n",
        "    number_of_trees = 0\n",
        "    # Set the position to 0\n",
        "    position = - (right)\n",
        "    positions = []\n",
        "\n",
        "    for row, index in zip(x, range(0, map.shape[0])):\n",
        "        if index % down != 0:\n",
        "            continue # if the index of the row is not divisible by the number DOWN it continues the loop\n",
        "        position = position + right\n",
        "        if position > 30:\n",
        "            position = position - 31 # if the position of the index you look for is higher than the length of the list then substracts the length\n",
        "        if row[position] == \".\":\n",
        "            number_of_paths += 1\n",
        "        if row[position] == \"#\":\n",
        "            number_of_trees += 1 # adds counters to the list of trees and paths\n",
        "        positions.append(position)\n",
        "    return number_of_trees\n",
        "\n",
        "print(\"The Answer to the Part 1 is: {}\".format(count_trees(map, 3, 1)))\n",
        "print(\"\\n\")\n",
        "print(\"The Answer to the Part 2 is: {}\".format(count_trees(map, 1, 1) * count_trees(map, 3, 1) * count_trees(map, 5, 1) * count_trees(map, 7, 1) * count_trees(map, 1, 2)))"
      ],
      "execution_count": 9,
      "outputs": [
        {
          "output_type": "stream",
          "text": [
            "The Answer to the Part 1 is: 162\n",
            "\n",
            "\n",
            "The Answer to the Part 2 is: 3064612320\n"
          ],
          "name": "stdout"
        }
      ]
    },
    {
      "cell_type": "markdown",
      "metadata": {
        "id": "a5Nk6DGzphfc"
      },
      "source": [
        "## Day 4: Passport Processing | Advent of Code 2020"
      ]
    },
    {
      "cell_type": "markdown",
      "metadata": {
        "id": "Pame3KCkp368"
      },
      "source": [
        "### Data"
      ]
    },
    {
      "cell_type": "code",
      "metadata": {
        "id": "dPAaCwf-TUB3"
      },
      "source": [
        "with open(\"/content/drive/MyDrive/Data/AoC-2020/Day04.txt\") as file: # Use file to refer to the file object\r\n",
        "    raw_data = file.read()\r\n",
        "\r\n",
        "raw_data = raw_data"
      ],
      "execution_count": 10,
      "outputs": []
    },
    {
      "cell_type": "markdown",
      "metadata": {
        "id": "sV7ZIpUOpuyt"
      },
      "source": [
        "### Solution"
      ]
    },
    {
      "cell_type": "code",
      "metadata": {
        "id": "MYAE7wNcPvtc"
      },
      "source": [
        "def to_list(x):\r\n",
        "    list_words = x.split(' ')\r\n",
        "    return list_words\r\n",
        "\r\n",
        "def units(x):\r\n",
        "    return \"\".join(list(x[-2:]))\r\n",
        "\r\n",
        "def letters(x):\r\n",
        "    valids = []\r\n",
        "    for character in str(x):\r\n",
        "        if character.isalpha():\r\n",
        "            valids.append(character)\r\n",
        "    return ''.join(valids)\r\n",
        "\r\n",
        "def digits(x):\r\n",
        "    valids = []\r\n",
        "    for character in str(x):\r\n",
        "        if character.isdigit():\r\n",
        "            valids.append(character)\r\n",
        "    return ''.join(valids)"
      ],
      "execution_count": 11,
      "outputs": []
    },
    {
      "cell_type": "code",
      "metadata": {
        "id": "tgUrT7aJpnnV",
        "colab": {
          "base_uri": "https://localhost:8080/",
          "height": 204
        },
        "outputId": "17047c69-88cb-487f-c1f8-79d907ddbf31"
      },
      "source": [
        "def makes_dataframe(x):\r\n",
        "    passports = x.replace('\\n', ' ')\r\n",
        "    passports = passports.split(\"  \")\r\n",
        "    passports_list = []\r\n",
        "    \r\n",
        "    for passport in passports:\r\n",
        "        passports_list.append(to_list(passport))\r\n",
        "\r\n",
        "    data = []\r\n",
        "\r\n",
        "    for passport in passports_list:\r\n",
        "        keys = []\r\n",
        "        values = []\r\n",
        "        for elements in passport:\r\n",
        "            element = elements.split(\":\")\r\n",
        "            keys.append(element[0])\r\n",
        "            values.append(element[1])\r\n",
        "        data.append(dict(zip(keys, values)))\r\n",
        "    \r\n",
        "    return data\r\n",
        "\r\n",
        "#===========================================================================================\r\n",
        "\r\n",
        "data = pd.DataFrame(makes_dataframe(raw_data))\r\n",
        "\r\n",
        "data[\"height\"] = data.hgt.apply(digits)\r\n",
        "data[\"units\"] = data.hgt.apply(letters)\r\n",
        "\r\n",
        "columns = list(data.columns)\r\n",
        "no_nan_data = data.dropna(subset = columns[0:-1])\r\n",
        "\r\n",
        "no_nan_data.shape[0]\r\n",
        "\r\n",
        "clean_data = no_nan_data.loc[(no_nan_data['byr'].astype(int) >= 1920) & (no_nan_data['byr'].astype(int) <= 2002)] # First condition Birth Year\r\n",
        "\r\n",
        "clean_data = clean_data.loc[(clean_data['iyr'].astype(int) >= 2010) & (clean_data['iyr'].astype(int) <= 2020)]  # Second condition Issue Year\r\n",
        "\r\n",
        "clean_data = clean_data.loc[(clean_data['eyr'].astype(int) >= 2020) & (clean_data['eyr'].astype(int) <= 2030)] # Third condition Expiration Year\r\n",
        "\r\n",
        "clean_data = clean_data.loc[clean_data[\"ecl\"].isin([\"amb\", \"blu\", \"brn\", \"gry\", \"grn\", \"hzl\", \"oth\"])] # Forth condition Eye Color\r\n",
        "                            \r\n",
        "clean_data = clean_data.loc[clean_data[\"pid\"].str.len() == 9] # Forth condition Passport ID\r\n",
        "\r\n",
        "clean_data.head(5) # Falta"
      ],
      "execution_count": 12,
      "outputs": [
        {
          "output_type": "execute_result",
          "data": {
            "text/html": [
              "<div>\n",
              "<style scoped>\n",
              "    .dataframe tbody tr th:only-of-type {\n",
              "        vertical-align: middle;\n",
              "    }\n",
              "\n",
              "    .dataframe tbody tr th {\n",
              "        vertical-align: top;\n",
              "    }\n",
              "\n",
              "    .dataframe thead th {\n",
              "        text-align: right;\n",
              "    }\n",
              "</style>\n",
              "<table border=\"1\" class=\"dataframe\">\n",
              "  <thead>\n",
              "    <tr style=\"text-align: right;\">\n",
              "      <th></th>\n",
              "      <th>eyr</th>\n",
              "      <th>iyr</th>\n",
              "      <th>byr</th>\n",
              "      <th>ecl</th>\n",
              "      <th>pid</th>\n",
              "      <th>hcl</th>\n",
              "      <th>hgt</th>\n",
              "      <th>cid</th>\n",
              "      <th>height</th>\n",
              "      <th>units</th>\n",
              "    </tr>\n",
              "  </thead>\n",
              "  <tbody>\n",
              "    <tr>\n",
              "      <th>0</th>\n",
              "      <td>2028</td>\n",
              "      <td>2016</td>\n",
              "      <td>1995</td>\n",
              "      <td>oth</td>\n",
              "      <td>543685203</td>\n",
              "      <td>#c0946f</td>\n",
              "      <td>152cm</td>\n",
              "      <td>252</td>\n",
              "      <td>152</td>\n",
              "      <td>cm</td>\n",
              "    </tr>\n",
              "    <tr>\n",
              "      <th>3</th>\n",
              "      <td>2029</td>\n",
              "      <td>2010</td>\n",
              "      <td>1945</td>\n",
              "      <td>brn</td>\n",
              "      <td>429131951</td>\n",
              "      <td>#cfa07d</td>\n",
              "      <td>167cm</td>\n",
              "      <td>210</td>\n",
              "      <td>167</td>\n",
              "      <td>cm</td>\n",
              "    </tr>\n",
              "    <tr>\n",
              "      <th>7</th>\n",
              "      <td>2024</td>\n",
              "      <td>2016</td>\n",
              "      <td>2001</td>\n",
              "      <td>grn</td>\n",
              "      <td>391942873</td>\n",
              "      <td>#cfa07d</td>\n",
              "      <td>164cm</td>\n",
              "      <td>104</td>\n",
              "      <td>164</td>\n",
              "      <td>cm</td>\n",
              "    </tr>\n",
              "    <tr>\n",
              "      <th>10</th>\n",
              "      <td>2028</td>\n",
              "      <td>2020</td>\n",
              "      <td>1950</td>\n",
              "      <td>gry</td>\n",
              "      <td>493510244</td>\n",
              "      <td>#ceb3a1</td>\n",
              "      <td>153cm</td>\n",
              "      <td>181</td>\n",
              "      <td>153</td>\n",
              "      <td>cm</td>\n",
              "    </tr>\n",
              "    <tr>\n",
              "      <th>14</th>\n",
              "      <td>2021</td>\n",
              "      <td>2015</td>\n",
              "      <td>1945</td>\n",
              "      <td>gry</td>\n",
              "      <td>777099878</td>\n",
              "      <td>#efcc98</td>\n",
              "      <td>193cm</td>\n",
              "      <td>338</td>\n",
              "      <td>193</td>\n",
              "      <td>cm</td>\n",
              "    </tr>\n",
              "  </tbody>\n",
              "</table>\n",
              "</div>"
            ],
            "text/plain": [
              "     eyr   iyr   byr  ecl        pid      hcl    hgt  cid height units\n",
              "0   2028  2016  1995  oth  543685203  #c0946f  152cm  252    152    cm\n",
              "3   2029  2010  1945  brn  429131951  #cfa07d  167cm  210    167    cm\n",
              "7   2024  2016  2001  grn  391942873  #cfa07d  164cm  104    164    cm\n",
              "10  2028  2020  1950  gry  493510244  #ceb3a1  153cm  181    153    cm\n",
              "14  2021  2015  1945  gry  777099878  #efcc98  193cm  338    193    cm"
            ]
          },
          "metadata": {
            "tags": []
          },
          "execution_count": 12
        }
      ]
    },
    {
      "cell_type": "markdown",
      "metadata": {
        "id": "NisNuaQRqBze"
      },
      "source": [
        "## Day 5: Binary Boarding | Advent of Code 2020"
      ]
    },
    {
      "cell_type": "markdown",
      "metadata": {
        "id": "-upkiUZ8qBze"
      },
      "source": [
        "### Data"
      ]
    },
    {
      "cell_type": "code",
      "metadata": {
        "id": "53-kWmOZTjRU"
      },
      "source": [
        "with open(\"/content/drive/MyDrive/Data/AoC-2020/Day05.txt\", \"r\") as file: # Use file to refer to the file object\r\n",
        "    raw_data = file.read() # data = [x.strip() for x in file.read().splitlines()]\r\n",
        "\r\n",
        "seats = [seat for seat in raw_data.split(\"\\n\")]"
      ],
      "execution_count": 13,
      "outputs": []
    },
    {
      "cell_type": "markdown",
      "metadata": {
        "id": "JopbdeD7qBze"
      },
      "source": [
        "### Solution"
      ]
    },
    {
      "cell_type": "code",
      "metadata": {
        "colab": {
          "base_uri": "https://localhost:8080/"
        },
        "id": "lcHmqnKFWhVd",
        "outputId": "3b8b8b7b-f78f-4e52-8515-f42e246cadad"
      },
      "source": [
        "# Binary Space Partitioning\r\n",
        "\r\n",
        "def seat_position(ticket, seats = [x for x in range(128)]): # ticket code and list of seats 0 to 127\r\n",
        "    for instruction in range(len(ticket) - 3 if len(ticket) > 3 else len(ticket)): # for the first 7 digits if lenght is more than 3, else lenght\r\n",
        "        seats = seats[0:int(len(seats) / 2)] if ticket[instruction] in ['F', 'L'] else seats[int(len(seats) / 2):] \r\n",
        "    if len(ticket) == 3:\r\n",
        "        return seats\r\n",
        "    return seats[0], seat_position(ticket[-3:], [x for x in range(8)])[0] # calls seat position function for the last 3 digits and seats 0 to 8\r\n",
        "\r\n",
        "seat_id = [seat_position(ticket)[0] * 8 + seat_position(ticket)[1] for ticket in seats] # multiply the row by 8, then add the column\r\n",
        "coordinates = sorted([seat_position(ticket) for ticket in seats]) # sorts the taken seats\r\n",
        "my_seat = [(position[0], (position[1] + 1) % 8) for position in coordinates if (position[0], (position[1] + 1) % 8) not in coordinates][1:-1][0] # the seats with IDs +1 and -1 from yours will be in your list\r\n",
        "\r\n",
        "print(\"The Answer to the Part 1 is: {}\".format(max(seat_id)))\r\n",
        "print(\"\\n\")\r\n",
        "print(\"The Answer to the Part 2 is: {}\".format(my_seat[0] * 8 + my_seat[1]))"
      ],
      "execution_count": 14,
      "outputs": [
        {
          "output_type": "stream",
          "text": [
            "The Answer to the Part 1 is: 970\n",
            "\n",
            "\n",
            "The Answer to the Part 2 is: 587\n"
          ],
          "name": "stdout"
        }
      ]
    },
    {
      "cell_type": "markdown",
      "metadata": {
        "id": "oJOz7RaIqEg8"
      },
      "source": [
        "## Day 6: Custom Customs | Advent of Code 2020"
      ]
    },
    {
      "cell_type": "markdown",
      "metadata": {
        "id": "M4t2TgHQqEg8"
      },
      "source": [
        "### Data"
      ]
    },
    {
      "cell_type": "code",
      "metadata": {
        "id": "ZAXMviZPT6xD"
      },
      "source": [
        "with open(\"/content/drive/MyDrive/Data/AoC-2020/Day06.txt\", \"r\") as file: # Use file to refer to the file object\r\n",
        "    raw_data = file.read() # data = [x.strip() for x in file.read().splitlines()]\r\n",
        "\r\n",
        "def group_answers(x):\r\n",
        "    answer = x.replace('\\n', ' ')\r\n",
        "    groups = answer.split(\"  \")\r\n",
        "    return [x.split(' ') for x in groups]\r\n",
        "\r\n",
        "groups = group_answers(raw_data)"
      ],
      "execution_count": 16,
      "outputs": []
    },
    {
      "cell_type": "markdown",
      "metadata": {
        "id": "9Ut5BLiLqEg8"
      },
      "source": [
        "### Solution"
      ]
    },
    {
      "cell_type": "code",
      "metadata": {
        "id": "UI0Z1fsCqEg8",
        "colab": {
          "base_uri": "https://localhost:8080/"
        },
        "outputId": "4824e42d-3602-435a-dbff-f0499d8f90ef"
      },
      "source": [
        "def positive_answers(x):\r\n",
        "    total_positive_per_group = []\r\n",
        "    common_positive_per_group = []\r\n",
        "\r\n",
        "    for group in x: # for group in list of groups\r\n",
        "        positive_answers = set() # creates an empty set to be filled with all the positive answers in a group\r\n",
        "        for person in group:\r\n",
        "            for answer in person: # iterates over the string as a list of answers\r\n",
        "                if answer not in positive_answers: # if the answers is not on the set adds it\r\n",
        "                    positive_answers.add(answer)\r\n",
        "        total_positive_per_group.append(len(positive_answers)) # adds to the respective list the number of anwswers, the total of positive\r\n",
        "        common_positive_per_group.append(len(set(group[0]).intersection(*group[1:]))) # adds to the respective list the number of anwswers, the interception of positive\r\n",
        "    return (total_positive_per_group, common_positive_per_group)\r\n",
        "\r\n",
        "print(f\"The Answer to the Part 1 is: {sum(positive_answers(groups)[0])}\")\r\n",
        "print(\"\\n\")\r\n",
        "print(f\"The Answer to the Part 2 is: {sum(positive_answers(groups)[1])}\")\r\n"
      ],
      "execution_count": 17,
      "outputs": [
        {
          "output_type": "stream",
          "text": [
            "The Answer to the Part 1 is: 6437\n",
            "\n",
            "\n",
            "The Answer to the Part 2 is: 3229\n"
          ],
          "name": "stdout"
        }
      ]
    },
    {
      "cell_type": "code",
      "metadata": {
        "colab": {
          "base_uri": "https://localhost:8080/",
          "height": 231
        },
        "id": "YnFwA9CGTmZX",
        "outputId": "52712af7-6bca-450c-9f20-b4391d774534"
      },
      "source": [
        "import sys\r\n",
        "\r\n",
        "answer_1 = answer_2 = 0\r\n",
        "\r\n",
        "for group in answers.split(\"\\n\\n\"): # Esto hace el split desde el for loop\r\n",
        "    answer_1 += len(set(group.replace(\"\\n\", \"\"))) # Esto agrega el largo del set por casa una de la iteraciones\r\n",
        "    # answer_2 += len(set.intersection(*map(set, group.split())))\r\n",
        "    # print(set(group.replace(\"\\n\", \"\")))\r\n",
        "\r\n",
        "print(answer_1)\r\n",
        "# print(s2)"
      ],
      "execution_count": 18,
      "outputs": [
        {
          "output_type": "error",
          "ename": "NameError",
          "evalue": "ignored",
          "traceback": [
            "\u001b[0;31m---------------------------------------------------------------------------\u001b[0m",
            "\u001b[0;31mNameError\u001b[0m                                 Traceback (most recent call last)",
            "\u001b[0;32m<ipython-input-18-5c6924cf1158>\u001b[0m in \u001b[0;36m<module>\u001b[0;34m()\u001b[0m\n\u001b[1;32m      3\u001b[0m \u001b[0manswer_1\u001b[0m \u001b[0;34m=\u001b[0m \u001b[0manswer_2\u001b[0m \u001b[0;34m=\u001b[0m \u001b[0;36m0\u001b[0m\u001b[0;34m\u001b[0m\u001b[0;34m\u001b[0m\u001b[0m\n\u001b[1;32m      4\u001b[0m \u001b[0;34m\u001b[0m\u001b[0m\n\u001b[0;32m----> 5\u001b[0;31m \u001b[0;32mfor\u001b[0m \u001b[0mgroup\u001b[0m \u001b[0;32min\u001b[0m \u001b[0manswers\u001b[0m\u001b[0;34m.\u001b[0m\u001b[0msplit\u001b[0m\u001b[0;34m(\u001b[0m\u001b[0;34m\"\\n\\n\"\u001b[0m\u001b[0;34m)\u001b[0m\u001b[0;34m:\u001b[0m \u001b[0;31m# Esto hace el split desde el for loop\u001b[0m\u001b[0;34m\u001b[0m\u001b[0;34m\u001b[0m\u001b[0m\n\u001b[0m\u001b[1;32m      6\u001b[0m     \u001b[0manswer_1\u001b[0m \u001b[0;34m+=\u001b[0m \u001b[0mlen\u001b[0m\u001b[0;34m(\u001b[0m\u001b[0mset\u001b[0m\u001b[0;34m(\u001b[0m\u001b[0mgroup\u001b[0m\u001b[0;34m.\u001b[0m\u001b[0mreplace\u001b[0m\u001b[0;34m(\u001b[0m\u001b[0;34m\"\\n\"\u001b[0m\u001b[0;34m,\u001b[0m \u001b[0;34m\"\"\u001b[0m\u001b[0;34m)\u001b[0m\u001b[0;34m)\u001b[0m\u001b[0;34m)\u001b[0m \u001b[0;31m# Esto agrega el largo del set por casa una de la iteraciones\u001b[0m\u001b[0;34m\u001b[0m\u001b[0;34m\u001b[0m\u001b[0m\n\u001b[1;32m      7\u001b[0m     \u001b[0;31m# answer_2 += len(set.intersection(*map(set, group.split())))\u001b[0m\u001b[0;34m\u001b[0m\u001b[0;34m\u001b[0m\u001b[0;34m\u001b[0m\u001b[0m\n",
            "\u001b[0;31mNameError\u001b[0m: name 'answers' is not defined"
          ]
        }
      ]
    },
    {
      "cell_type": "code",
      "metadata": {
        "id": "PNnSvaytVRPG"
      },
      "source": [
        "# [(a, b) for a in iterable_a for b in iterable_b]"
      ],
      "execution_count": null,
      "outputs": []
    },
    {
      "cell_type": "markdown",
      "metadata": {
        "id": "7_PG57CoqFcb"
      },
      "source": [
        "## Day 7: Handy Haversacks | Advent of Code 2020"
      ]
    },
    {
      "cell_type": "markdown",
      "metadata": {
        "id": "F6oFV44dqFcb"
      },
      "source": [
        "### Data"
      ]
    },
    {
      "cell_type": "code",
      "metadata": {
        "id": "E1rhQ6ARUUpz"
      },
      "source": [
        "with open(\"/content/drive/MyDrive/Data/AoC-2020/Day07.txt\", \"r\") as file: # Use file to refer to the file object\r\n",
        "    raw_data = file.read() # data = [x.strip() for x in file.read().splitlines()]\r\n",
        "\r\n",
        "rules = raw_data"
      ],
      "execution_count": null,
      "outputs": []
    },
    {
      "cell_type": "markdown",
      "metadata": {
        "id": "TCiFWgp1qFcb"
      },
      "source": [
        "### Solution"
      ]
    },
    {
      "cell_type": "code",
      "metadata": {
        "id": "UxnvHDL8qFcb"
      },
      "source": [
        "rules = \"\"\"striped green bags contain 5 posh indigo bags.\r\n",
        "light yellow bags contain 3 wavy turquoise bags.\r\n",
        "bright lime bags contain 2 striped crimson bags, 3 dull red bags.\r\n",
        "dull blue bags contain 4 posh coral bags, 3 mirrored coral bags, 2 striped fuchsia bags.\r\n",
        "vibrant coral bags contain 2 shiny blue bags, 2 muted gray bags.\r\n",
        "mirrored gold bags contain 2 dotted maroon bags.\"\"\""
      ],
      "execution_count": null,
      "outputs": []
    },
    {
      "cell_type": "code",
      "metadata": {
        "id": "3z0tHZ4vYnEl"
      },
      "source": [
        "dictionaries = []\r\n",
        "\r\n",
        "for dictionary in rules.split(\"\\n\"):\r\n",
        "    dictionaries.append(dictionary.split(\" \"))\r\n",
        "    \r\n",
        "dictionaries"
      ],
      "execution_count": null,
      "outputs": []
    },
    {
      "cell_type": "markdown",
      "metadata": {
        "id": "-Tj39DFIqGFo"
      },
      "source": [
        "## Day 8: Handheld Halting | Advent of Code 2020"
      ]
    },
    {
      "cell_type": "markdown",
      "metadata": {
        "id": "blTj_L8sqGFo"
      },
      "source": [
        "### Data"
      ]
    },
    {
      "cell_type": "code",
      "metadata": {
        "id": "vqGykt96UefS"
      },
      "source": [
        "with open(\"/content/drive/MyDrive/Data/AoC-2020/Day08.txt\", \"r\") as file: # Use file to refer to the file object\r\n",
        "    raw_data = file.read() # data = [x.strip() for x in file.read().splitlines()]\r\n",
        "\r\n",
        "sequence = raw_data"
      ],
      "execution_count": null,
      "outputs": []
    },
    {
      "cell_type": "markdown",
      "metadata": {
        "id": "QkTaPNgyqGFo"
      },
      "source": [
        "### Solution"
      ]
    },
    {
      "cell_type": "code",
      "metadata": {
        "id": "Vz_0u-BlqGFo"
      },
      "source": [
        "sequence = \"\"\"nop +0\r\n",
        "acc +1\r\n",
        "jmp +4\r\n",
        "acc +3\r\n",
        "jmp -3\r\n",
        "acc -99\r\n",
        "acc +1\r\n",
        "jmp -4\r\n",
        "acc +6\"\"\"\r\n",
        "\r\n"
      ],
      "execution_count": null,
      "outputs": []
    },
    {
      "cell_type": "code",
      "metadata": {
        "id": "1auBIMHniIyT"
      },
      "source": [
        "def instructions(x):\r\n",
        "    operations = []\r\n",
        "    for operation in x.split(\"\\n\"):\r\n",
        "        operations.append([operation.split(\" \")[0], int(operation.split(\" \")[1])])\r\n",
        "    return(operations)\r\n",
        "\r\n",
        "def operations(x):\r\n",
        "    accumulator = 0\r\n",
        "    seen_indexes = set()\r\n",
        "    state = True\r\n",
        "\r\n",
        "    while state:\r\n",
        "        index = 0\r\n",
        "        if index not in seen_indexes:\r\n",
        "            if x[index][0] == \"acc\":\r\n",
        "                accumulator += x[index][1]\r\n",
        "                index += 1\r\n",
        "                seen_indexes.add(index)\r\n",
        "            if x[index][0] == \"jmp\":\r\n",
        "                index += x[index][1]\r\n",
        "                seen_indexes.add(index)\r\n",
        "            if x[index][0] == \"nop\":\r\n",
        "                index += 1\r\n",
        "                seen_indexes.add(index)\r\n",
        "        if index in seen_indexes:\r\n",
        "            state = False\r\n",
        "        \r\n",
        "    return (index, accumulator, seen_indexes)\r\n",
        "\r\n",
        "test = instructions(sequence)\r\n",
        "\r\n",
        "operations(test)"
      ],
      "execution_count": null,
      "outputs": []
    },
    {
      "cell_type": "code",
      "metadata": {
        "id": "a5DRxY-7mmJt"
      },
      "source": [
        "  \r\n",
        "instructions = [line.strip() for line in open('Data - Day 8.txt', 'r')]\r\n",
        "# ACC = 0\r\n",
        "# def part1():\r\n",
        "#     global ACC\r\n",
        "#     completedIndexes = []\r\n",
        "#     lineIndex = 0\r\n",
        "#     while lineIndex < len(instructions):\r\n",
        "#         # first test to make sure if this line has been repeated\r\n",
        "#         if lineIndex in completedIndexes:\r\n",
        "#             print(\"Loop detected. ACC value is \", ACC)\r\n",
        "#             break\r\n",
        "#         else:\r\n",
        "#             # no loop detected, execute instruction\r\n",
        "#             completedIndexes.append(lineIndex)\r\n",
        "#             instruction, value = instructions[lineIndex].split(\" \")\r\n",
        "#             value = int(value)\r\n",
        "#             if instruction == \"acc\":\r\n",
        "#                 ACC += value\r\n",
        "#                 lineIndex += 1\r\n",
        "#             elif instruction == \"jmp\":\r\n",
        "#                 lineIndex += value\r\n",
        "#             elif instruction == \"nop\":\r\n",
        "#                 lineIndex += 1\r\n",
        "\r\n",
        "# part1()\r\n",
        "\r\n",
        "instructions"
      ],
      "execution_count": null,
      "outputs": []
    },
    {
      "cell_type": "code",
      "metadata": {
        "id": "8Knmcor2IIZl"
      },
      "source": [
        ""
      ],
      "execution_count": null,
      "outputs": []
    }
  ]
}