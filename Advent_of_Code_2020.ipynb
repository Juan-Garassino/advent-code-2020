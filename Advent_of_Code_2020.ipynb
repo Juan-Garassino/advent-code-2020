{
  "nbformat": 4,
  "nbformat_minor": 0,
  "metadata": {
    "colab": {
      "name": "Advent of Code 2020.ipynb",
      "provenance": [],
      "collapsed_sections": [
        "VAQq7qMNOyzk",
        "a5Nk6DGzphfc",
        "Pame3KCkp368",
        "sV7ZIpUOpuyt",
        "oJOz7RaIqEg8",
        "7_PG57CoqFcb",
        "-Tj39DFIqGFo"
      ]
    },
    "kernelspec": {
      "name": "python3",
      "display_name": "Python 3"
    }
  },
  "cells": [
    {
      "cell_type": "markdown",
      "metadata": {
        "id": "uD5W11QjUvac"
      },
      "source": [
        "# Imports"
      ]
    },
    {
      "cell_type": "code",
      "metadata": {
        "id": "k6ahChIsP32o",
        "colab": {
          "base_uri": "https://localhost:8080/"
        },
        "outputId": "4dac5bd2-5c7c-44e1-ceef-74a2ef0a01d7"
      },
      "source": [
        "import numpy as np\r\n",
        "import pandas as pd\r\n",
        "import re\r\n",
        "import itertools\r\n",
        "\r\n",
        "from google.colab import drive\r\n",
        "drive.mount('drive')"
      ],
      "execution_count": 1,
      "outputs": [
        {
          "output_type": "stream",
          "text": [
            "Drive already mounted at drive; to attempt to forcibly remount, call drive.mount(\"drive\", force_remount=True).\n"
          ],
          "name": "stdout"
        }
      ]
    },
    {
      "cell_type": "markdown",
      "metadata": {
        "id": "xmcQ29qgOXbp"
      },
      "source": [
        "# Code Calendar"
      ]
    },
    {
      "cell_type": "markdown",
      "metadata": {
        "id": "bEx6D5KVOaNI"
      },
      "source": [
        "## Day 01 - Report Repair | Advent of Code 2020 | SOLVED"
      ]
    },
    {
      "cell_type": "code",
      "metadata": {
        "id": "QoabuHtQK8ir"
      },
      "source": [
        "# Loading input from the file on my drive\r\n",
        "\r\n",
        "with open(\"/content/drive/MyDrive/Data/AoC-2020/Day01.txt\") as file: # use file to refer to the file object\r\n",
        "    raw_data = file.read()\r\n",
        "\r\n",
        "years = [int(year) for year in raw_data.split(\"\\n\")] # creates the list of integers from the raw data"
      ],
      "execution_count": 2,
      "outputs": []
    },
    {
      "cell_type": "code",
      "metadata": {
        "colab": {
          "base_uri": "https://localhost:8080/"
        },
        "id": "-FILsnBVO6Wt",
        "outputId": "53d0c29e-336c-458f-ae23-13913467ab3c"
      },
      "source": [
        "# function that will find the solution\r\n",
        "\r\n",
        "def solution(x):\r\n",
        "    years = set(x) # creates a set with the values on the list\r\n",
        "    for first_year in years:\r\n",
        "        for second_year in years - {first_year}:\r\n",
        "            if first_year + second_year == 2020: # if the sum is 2020 finds makes the product of this 2 years\r\n",
        "                Part_1 = first_year * second_year\r\n",
        "\r\n",
        "            third_year = 2020 - first_year - second_year\r\n",
        "            if third_year in years: # if the third year is on the list makes the product of this 3 years\r\n",
        "                Part_2 = first_year * second_year * third_year\r\n",
        "    return Part_1, Part_2\r\n",
        "\r\n",
        "print(\"Part 1: Find the two entries that sum to 2020; what do you get if you multiply them together?\")\r\n",
        "print(f\"The Answer to the Part 1 is: {solution(years)[0]}\", end = \"\\n\\n\")\r\n",
        "print(\"Part 2: What is the product of the three entries that sum to 2020?\")\r\n",
        "print(f\"The Answer to the Part 2 is: {solution(years)[1]}\")\r\n"
      ],
      "execution_count": 3,
      "outputs": [
        {
          "output_type": "stream",
          "text": [
            "Part 1: Find the two entries that sum to 2020; what do you get if you multiply them together?\n",
            "The Answer to the Part 1 is: 731731\n",
            "\n",
            "Part 2: What is the product of the three entries that sum to 2020?\n",
            "The Answer to the Part 2 is: 116115990\n"
          ],
          "name": "stdout"
        }
      ]
    },
    {
      "cell_type": "markdown",
      "metadata": {
        "id": "1lH3uZ9nOjIm"
      },
      "source": [
        "## Day 2: Password Philosophy | Advent of Code 2020 | TO IMPROVE"
      ]
    },
    {
      "cell_type": "code",
      "metadata": {
        "id": "XEjwxY8aLDkk"
      },
      "source": [
        "with open(\"/content/drive/MyDrive/Data/AoC-2020/Day02.txt\") as file: # Use file to refer to the file object\r\n",
        "    raw_data = file.read()\r\n",
        "\r\n",
        "passports = np.array([passport.split(', ') for passport in [', '.join(passport.split()) for passport in raw_data.split(\"\\n\")]])\r\n",
        "\r\n",
        "passports = pd.DataFrame(passports, columns = [\"Range\", \"Letter\", \"Password\"])"
      ],
      "execution_count": 4,
      "outputs": []
    },
    {
      "cell_type": "code",
      "metadata": {
        "colab": {
          "base_uri": "https://localhost:8080/"
        },
        "id": "P8aITy7d1H_w",
        "outputId": "e38b1f7c-ee69-4285-8a3e-4b3c6f0098d5"
      },
      "source": [
        "def removes_punctuation(x):\r\n",
        "    return x.replace(\":\", '')\r\n",
        "\r\n",
        "def replace_punctuation(x):\r\n",
        "    return x.replace(\"-\", \" \")\r\n",
        "\r\n",
        "def creates_range(x):\r\n",
        "    return list(map(int, x.split(' ')))\r\n",
        "\r\n",
        "#==============================================================================\r\n",
        "\r\n",
        "def count_repetition(x):\r\n",
        "    # Number of repetitions of the letter in column x[1] on the passport x[2]\r\n",
        "    return x[2].count(x[1])\r\n",
        "\r\n",
        "def find_index(x):\r\n",
        "    # Finds the index of the position of the letter on the passport + 1\r\n",
        "    indeces = [index for index, char in enumerate(x[2]) if char == x[1]]\r\n",
        "    return [(index+1) for index in indeces]\r\n",
        "\r\n",
        "#==============================================================================\r\n",
        "\r\n",
        "def valid(x):\r\n",
        "    if x[3] in range(x[0][0], x[0][1]+1):\r\n",
        "        return True\r\n",
        "    else:\r\n",
        "        return False\r\n",
        "\r\n",
        "def last_validation(x):\r\n",
        "    if x[0][0] in x[5] and x[0][1] in x[5]:\r\n",
        "        return False \r\n",
        "    if x[0][0] in x[5] or x[0][1] in x[5]:\r\n",
        "        return True\r\n",
        "    else:\r\n",
        "        return False\r\n",
        "\r\n",
        "passports[\"Letter\"] = passports.Letter.apply(removes_punctuation)\r\n",
        "passports[\"Range\"] = passports.Range.apply(replace_punctuation)\r\n",
        "passports[\"Range\"] = passports.Range.apply(creates_range)\r\n",
        "passports[\"repetitions\"] = passports.apply(count_repetition, axis=1)\r\n",
        "passports[\"validity\"] = passports.apply(valid, axis=1)\r\n",
        "passports[\"indexes\"] = passports.apply(find_index, axis = 1)\r\n",
        "passports[\"last validation\"] = passports.apply(last_validation, axis = 1)\r\n",
        "\r\n",
        "print(\"Part 1: How many passwords are valid according to their policies?\")\r\n",
        "print(f\"The Answer to the Part 1 is: {passports['validity'].values.sum()}\", end = \"\\n\\n\")\r\n",
        "print(\"Part 2: How many passwords are valid according to the new interpretation of the policies?\")\r\n",
        "print(f\"The Answer to the Part 2 is: {passports['last validation'].values.sum()}\")"
      ],
      "execution_count": 5,
      "outputs": [
        {
          "output_type": "stream",
          "text": [
            "Part 1: How many passwords are valid according to their policies?\n",
            "The Answer to the Part 1 is: 640\n",
            "\n",
            "Part 2: How many passwords are valid according to the new interpretation of the policies?\n",
            "The Answer to the Part 2 is: 472\n"
          ],
          "name": "stdout"
        }
      ]
    },
    {
      "cell_type": "markdown",
      "metadata": {
        "id": "VAQq7qMNOyzk"
      },
      "source": [
        "## Day 3: Toboggan Trajectory | Advent of Code 2020 | SOLVED"
      ]
    },
    {
      "cell_type": "code",
      "metadata": {
        "id": "Lrqo0ZhgTI0P"
      },
      "source": [
        "# Loading input from the file on my drive\r\n",
        "\r\n",
        "with open(\"/content/drive/MyDrive/Data/AoC-2020/Day03.txt\") as file: # Use file to refer to the file object\r\n",
        "    raw_data = file.read()\r\n",
        "\r\n",
        "map = np.array([list(element) for element in [portion for portion in raw_data.split(\"\\n\")]]) # returns its own after slipting per line, then returns its own after spliting per element"
      ],
      "execution_count": 6,
      "outputs": []
    },
    {
      "cell_type": "code",
      "metadata": {
        "colab": {
          "base_uri": "https://localhost:8080/"
        },
        "id": "h2WXmxpeBdRO",
        "outputId": "f754fd74-1c4b-4da3-dd3c-ff3e60f73038"
      },
      "source": [
        "# function that will find the solution\n",
        "\n",
        "def count_trees(x, right, down):\n",
        "    # Set the Variables to 0\n",
        "    number_of_paths = 0\n",
        "    number_of_trees = 0\n",
        "    # Set the position to 0\n",
        "    position = - (right)\n",
        "    positions = []\n",
        "\n",
        "    for row, index in zip(x, range(0, map.shape[0])):\n",
        "        if index % down != 0:\n",
        "            continue # if the index of the row is not divisible by the number DOWN it continues the loop\n",
        "        position = position + right\n",
        "        if position > 30:\n",
        "            position = position - 31 # if the position of the index you look for is higher than the length of the list then substracts the length\n",
        "        if row[position] == \".\":\n",
        "            number_of_paths += 1\n",
        "        if row[position] == \"#\":\n",
        "            number_of_trees += 1 # adds counters to the list of trees and paths\n",
        "        positions.append(position)\n",
        "    return number_of_trees\n",
        "\n",
        "print(\"Part 1: Starting at the top-left corner of your map and following a slope of right 3 and down 1, how many trees would you encounter?\")\n",
        "print(\"The Answer to the Part 1 is: {}\".format(count_trees(map, 3, 1)), end = \"\\n\\n\")\n",
        "print(\"Part 2: What do you get if you multiply together the number of trees encountered on each of the listed slopes?\")\n",
        "print(\"The Answer to the Part 2 is: {}\".format(count_trees(map, 1, 1) * count_trees(map, 3, 1) * count_trees(map, 5, 1) * count_trees(map, 7, 1) * count_trees(map, 1, 2)))"
      ],
      "execution_count": 7,
      "outputs": [
        {
          "output_type": "stream",
          "text": [
            "Part 1: Starting at the top-left corner of your map and following a slope of right 3 and down 1, how many trees would you encounter?\n",
            "The Answer to the Part 1 is: 162\n",
            "\n",
            "Part 2: What do you get if you multiply together the number of trees encountered on each of the listed slopes?\n",
            "The Answer to the Part 2 is: 3064612320\n"
          ],
          "name": "stdout"
        }
      ]
    },
    {
      "cell_type": "markdown",
      "metadata": {
        "id": "a5Nk6DGzphfc"
      },
      "source": [
        "## Day 4: Passport Processing | Advent of Code 2020"
      ]
    },
    {
      "cell_type": "markdown",
      "metadata": {
        "id": "Pame3KCkp368"
      },
      "source": [
        "### Data"
      ]
    },
    {
      "cell_type": "code",
      "metadata": {
        "id": "dPAaCwf-TUB3"
      },
      "source": [
        "with open(\"/content/drive/MyDrive/Data/AoC-2020/Day04.txt\") as file: # Use file to refer to the file object\r\n",
        "    raw_data = file.read()\r\n",
        "\r\n",
        "raw_data = raw_data"
      ],
      "execution_count": 8,
      "outputs": []
    },
    {
      "cell_type": "markdown",
      "metadata": {
        "id": "sV7ZIpUOpuyt"
      },
      "source": [
        "### Solution"
      ]
    },
    {
      "cell_type": "code",
      "metadata": {
        "id": "MYAE7wNcPvtc"
      },
      "source": [
        "def to_list(x):\r\n",
        "    list_words = x.split(' ')\r\n",
        "    return list_words\r\n",
        "\r\n",
        "def units(x):\r\n",
        "    return \"\".join(list(x[-2:]))\r\n",
        "\r\n",
        "def letters(x):\r\n",
        "    valids = []\r\n",
        "    for character in str(x):\r\n",
        "        if character.isalpha():\r\n",
        "            valids.append(character)\r\n",
        "    return ''.join(valids)\r\n",
        "\r\n",
        "def digits(x):\r\n",
        "    valids = []\r\n",
        "    for character in str(x):\r\n",
        "        if character.isdigit():\r\n",
        "            valids.append(character)\r\n",
        "    return ''.join(valids)"
      ],
      "execution_count": 9,
      "outputs": []
    },
    {
      "cell_type": "code",
      "metadata": {
        "id": "tgUrT7aJpnnV",
        "colab": {
          "base_uri": "https://localhost:8080/",
          "height": 204
        },
        "outputId": "3daf173a-0301-462d-a08f-3dcec1b0c143"
      },
      "source": [
        "def makes_dataframe(x):\r\n",
        "    passports = x.replace('\\n', ' ')\r\n",
        "    passports = passports.split(\"  \")\r\n",
        "    passports_list = []\r\n",
        "    \r\n",
        "    for passport in passports:\r\n",
        "        passports_list.append(to_list(passport))\r\n",
        "\r\n",
        "    data = []\r\n",
        "\r\n",
        "    for passport in passports_list:\r\n",
        "        keys = []\r\n",
        "        values = []\r\n",
        "        for elements in passport:\r\n",
        "            element = elements.split(\":\")\r\n",
        "            keys.append(element[0])\r\n",
        "            values.append(element[1])\r\n",
        "        data.append(dict(zip(keys, values)))\r\n",
        "    \r\n",
        "    return data\r\n",
        "\r\n",
        "#===========================================================================================\r\n",
        "\r\n",
        "data = pd.DataFrame(makes_dataframe(raw_data))\r\n",
        "\r\n",
        "data[\"height\"] = data.hgt.apply(digits)\r\n",
        "data[\"units\"] = data.hgt.apply(letters)\r\n",
        "\r\n",
        "columns = list(data.columns)\r\n",
        "no_nan_data = data.dropna(subset = columns[0:-1])\r\n",
        "\r\n",
        "no_nan_data.shape[0]\r\n",
        "\r\n",
        "clean_data = no_nan_data.loc[(no_nan_data['byr'].astype(int) >= 1920) & (no_nan_data['byr'].astype(int) <= 2002)] # First condition Birth Year\r\n",
        "\r\n",
        "clean_data = clean_data.loc[(clean_data['iyr'].astype(int) >= 2010) & (clean_data['iyr'].astype(int) <= 2020)]  # Second condition Issue Year\r\n",
        "\r\n",
        "clean_data = clean_data.loc[(clean_data['eyr'].astype(int) >= 2020) & (clean_data['eyr'].astype(int) <= 2030)] # Third condition Expiration Year\r\n",
        "\r\n",
        "clean_data = clean_data.loc[clean_data[\"ecl\"].isin([\"amb\", \"blu\", \"brn\", \"gry\", \"grn\", \"hzl\", \"oth\"])] # Forth condition Eye Color\r\n",
        "                            \r\n",
        "clean_data = clean_data.loc[clean_data[\"pid\"].str.len() == 9] # Forth condition Passport ID\r\n",
        "\r\n",
        "clean_data.head(5) # Falta\r\n",
        "\r\n",
        "# In your batch file, how many passports are valid?"
      ],
      "execution_count": 10,
      "outputs": [
        {
          "output_type": "execute_result",
          "data": {
            "text/html": [
              "<div>\n",
              "<style scoped>\n",
              "    .dataframe tbody tr th:only-of-type {\n",
              "        vertical-align: middle;\n",
              "    }\n",
              "\n",
              "    .dataframe tbody tr th {\n",
              "        vertical-align: top;\n",
              "    }\n",
              "\n",
              "    .dataframe thead th {\n",
              "        text-align: right;\n",
              "    }\n",
              "</style>\n",
              "<table border=\"1\" class=\"dataframe\">\n",
              "  <thead>\n",
              "    <tr style=\"text-align: right;\">\n",
              "      <th></th>\n",
              "      <th>eyr</th>\n",
              "      <th>iyr</th>\n",
              "      <th>byr</th>\n",
              "      <th>ecl</th>\n",
              "      <th>pid</th>\n",
              "      <th>hcl</th>\n",
              "      <th>hgt</th>\n",
              "      <th>cid</th>\n",
              "      <th>height</th>\n",
              "      <th>units</th>\n",
              "    </tr>\n",
              "  </thead>\n",
              "  <tbody>\n",
              "    <tr>\n",
              "      <th>0</th>\n",
              "      <td>2028</td>\n",
              "      <td>2016</td>\n",
              "      <td>1995</td>\n",
              "      <td>oth</td>\n",
              "      <td>543685203</td>\n",
              "      <td>#c0946f</td>\n",
              "      <td>152cm</td>\n",
              "      <td>252</td>\n",
              "      <td>152</td>\n",
              "      <td>cm</td>\n",
              "    </tr>\n",
              "    <tr>\n",
              "      <th>3</th>\n",
              "      <td>2029</td>\n",
              "      <td>2010</td>\n",
              "      <td>1945</td>\n",
              "      <td>brn</td>\n",
              "      <td>429131951</td>\n",
              "      <td>#cfa07d</td>\n",
              "      <td>167cm</td>\n",
              "      <td>210</td>\n",
              "      <td>167</td>\n",
              "      <td>cm</td>\n",
              "    </tr>\n",
              "    <tr>\n",
              "      <th>7</th>\n",
              "      <td>2024</td>\n",
              "      <td>2016</td>\n",
              "      <td>2001</td>\n",
              "      <td>grn</td>\n",
              "      <td>391942873</td>\n",
              "      <td>#cfa07d</td>\n",
              "      <td>164cm</td>\n",
              "      <td>104</td>\n",
              "      <td>164</td>\n",
              "      <td>cm</td>\n",
              "    </tr>\n",
              "    <tr>\n",
              "      <th>10</th>\n",
              "      <td>2028</td>\n",
              "      <td>2020</td>\n",
              "      <td>1950</td>\n",
              "      <td>gry</td>\n",
              "      <td>493510244</td>\n",
              "      <td>#ceb3a1</td>\n",
              "      <td>153cm</td>\n",
              "      <td>181</td>\n",
              "      <td>153</td>\n",
              "      <td>cm</td>\n",
              "    </tr>\n",
              "    <tr>\n",
              "      <th>14</th>\n",
              "      <td>2021</td>\n",
              "      <td>2015</td>\n",
              "      <td>1945</td>\n",
              "      <td>gry</td>\n",
              "      <td>777099878</td>\n",
              "      <td>#efcc98</td>\n",
              "      <td>193cm</td>\n",
              "      <td>338</td>\n",
              "      <td>193</td>\n",
              "      <td>cm</td>\n",
              "    </tr>\n",
              "  </tbody>\n",
              "</table>\n",
              "</div>"
            ],
            "text/plain": [
              "     eyr   iyr   byr  ecl        pid      hcl    hgt  cid height units\n",
              "0   2028  2016  1995  oth  543685203  #c0946f  152cm  252    152    cm\n",
              "3   2029  2010  1945  brn  429131951  #cfa07d  167cm  210    167    cm\n",
              "7   2024  2016  2001  grn  391942873  #cfa07d  164cm  104    164    cm\n",
              "10  2028  2020  1950  gry  493510244  #ceb3a1  153cm  181    153    cm\n",
              "14  2021  2015  1945  gry  777099878  #efcc98  193cm  338    193    cm"
            ]
          },
          "metadata": {
            "tags": []
          },
          "execution_count": 10
        }
      ]
    },
    {
      "cell_type": "markdown",
      "metadata": {
        "id": "NisNuaQRqBze"
      },
      "source": [
        "## Day 5: Binary Boarding | Advent of Code 2020 | SOLVED"
      ]
    },
    {
      "cell_type": "code",
      "metadata": {
        "id": "53-kWmOZTjRU"
      },
      "source": [
        "# Loading input from the file on my drive\r\n",
        "\r\n",
        "with open(\"/content/drive/MyDrive/Data/AoC-2020/Day05.txt\", \"r\") as file: # Use file to refer to the file object\r\n",
        "    raw_data = file.read() # data = [x.strip() for x in file.read().splitlines()]\r\n",
        "\r\n",
        "seats = [seat for seat in raw_data.split(\"\\n\")]"
      ],
      "execution_count": 11,
      "outputs": []
    },
    {
      "cell_type": "code",
      "metadata": {
        "colab": {
          "base_uri": "https://localhost:8080/"
        },
        "id": "lcHmqnKFWhVd",
        "outputId": "9e19769b-6b5a-43f9-8558-418d2c8a9acc"
      },
      "source": [
        "# function that will find the solution (Binary Space Partitioning)\r\n",
        "\r\n",
        "def seat_position(ticket, seats = [x for x in range(128)]): # ticket code and list of seats 0 to 127\r\n",
        "    for instruction in range(len(ticket) - 3 if len(ticket) > 3 else len(ticket)): # for the first 7 digits if lenght is more than 3, else lenght\r\n",
        "        seats = seats[0:int(len(seats) / 2)] if ticket[instruction] in ['F', 'L'] else seats[int(len(seats) / 2):] \r\n",
        "    if len(ticket) == 3:\r\n",
        "        return seats\r\n",
        "    return seats[0], seat_position(ticket[-3:], [x for x in range(8)])[0] # calls seat position function for the last 3 digits and seats 0 to 8\r\n",
        "\r\n",
        "seat_id = [seat_position(ticket)[0] * 8 + seat_position(ticket)[1] for ticket in seats] # multiply the row by 8, then add the column\r\n",
        "coordinates = sorted([seat_position(ticket) for ticket in seats]) # sorts the taken seats\r\n",
        "my_seat = [(position[0], (position[1] + 1) % 8) for position in coordinates if (position[0], (position[1] + 1) % 8) not in coordinates][1:-1][0] # the seats with IDs +1 and -1 from yours will be in your list\r\n",
        "\r\n",
        "print(\"Part 1: What is the highest seat ID on a boarding pass?\")\r\n",
        "print(\"The Answer to the Part 1 is: {}\".format(max(seat_id)), end = \"\\n\\n\")\r\n",
        "print(\"Part 2: What is the ID of your seat?\")\r\n",
        "print(\"The Answer to the Part 2 is: {}\".format(my_seat[0] * 8 + my_seat[1]))"
      ],
      "execution_count": 12,
      "outputs": [
        {
          "output_type": "stream",
          "text": [
            "Part 1: What is the highest seat ID on a boarding pass?\n",
            "The Answer to the Part 1 is: 970\n",
            "\n",
            "Part 2: What is the ID of your seat?\n",
            "The Answer to the Part 2 is: 587\n"
          ],
          "name": "stdout"
        }
      ]
    },
    {
      "cell_type": "markdown",
      "metadata": {
        "id": "oJOz7RaIqEg8"
      },
      "source": [
        "## Day 6: Custom Customs | Advent of Code 2020 | SOLVED"
      ]
    },
    {
      "cell_type": "code",
      "metadata": {
        "id": "ZAXMviZPT6xD"
      },
      "source": [
        "# Loading input from the file on my drive\r\n",
        "\r\n",
        "with open(\"/content/drive/MyDrive/Data/AoC-2020/Day06.txt\", \"r\") as file: # Use file to refer to the file object\r\n",
        "    raw_data = file.read() # data = [x.strip() for x in file.read().splitlines()]\r\n",
        "\r\n",
        "def group_answers(x):\r\n",
        "    answer = x.replace('\\n', ' ')\r\n",
        "    groups = answer.split(\"  \")\r\n",
        "    return [x.split(' ') for x in groups]\r\n",
        "\r\n",
        "groups = group_answers(raw_data)"
      ],
      "execution_count": 13,
      "outputs": []
    },
    {
      "cell_type": "code",
      "metadata": {
        "id": "UI0Z1fsCqEg8",
        "colab": {
          "base_uri": "https://localhost:8080/"
        },
        "outputId": "43b0a65a-9676-468d-d53a-2f59a1b47dd6"
      },
      "source": [
        "# function that will find the solution (Binary Space Partitioning)\r\n",
        "\r\n",
        "def positive_answers(x):\r\n",
        "    total_positive_per_group = []\r\n",
        "    common_positive_per_group = []\r\n",
        "\r\n",
        "    for group in x: # for group in list of groups\r\n",
        "        positive_answers = set() # creates an empty set to be filled with all the positive answers in a group\r\n",
        "        for person in group:\r\n",
        "            for answer in person: # iterates over the string as a list of answers\r\n",
        "                if answer not in positive_answers: # if the answers is not on the set adds it\r\n",
        "                    positive_answers.add(answer)\r\n",
        "        total_positive_per_group.append(len(positive_answers)) # adds to the respective list the number of anwswers, the total of positive\r\n",
        "        common_positive_per_group.append(len(set(group[0]).intersection(*group[1:]))) # adds to the respective list the number of anwswers, the interception of positive\r\n",
        "    return (total_positive_per_group, common_positive_per_group)\r\n",
        "\r\n",
        "print(\"For each group, count the number of questions to which anyone answered 'yes'. What is the sum of those counts?\")\r\n",
        "print(f\"The Answer to the Part 1 is: {sum(positive_answers(groups)[0])}\")\r\n",
        "print(\"\\n\")\r\n",
        "print(\"For each group, count the number of questions to which everyone answered 'yes'. What is the sum of those counts?\")\r\n",
        "print(f\"The Answer to the Part 2 is: {sum(positive_answers(groups)[1])}\")\r\n",
        "\r\n",
        "# [(a, b) for a in iterable_a for b in iterable_b]"
      ],
      "execution_count": 14,
      "outputs": [
        {
          "output_type": "stream",
          "text": [
            "For each group, count the number of questions to which anyone answered 'yes'. What is the sum of those counts?\n",
            "The Answer to the Part 1 is: 6437\n",
            "\n",
            "\n",
            "For each group, count the number of questions to which everyone answered 'yes'. What is the sum of those counts?\n",
            "The Answer to the Part 2 is: 3229\n"
          ],
          "name": "stdout"
        }
      ]
    },
    {
      "cell_type": "markdown",
      "metadata": {
        "id": "7_PG57CoqFcb"
      },
      "source": [
        "## Day 7: Handy Haversacks | Advent of Code 2020"
      ]
    },
    {
      "cell_type": "markdown",
      "metadata": {
        "id": "F6oFV44dqFcb"
      },
      "source": [
        "### Data"
      ]
    },
    {
      "cell_type": "code",
      "metadata": {
        "id": "E1rhQ6ARUUpz"
      },
      "source": [
        "with open(\"/content/drive/MyDrive/Data/AoC-2020/Day07.txt\", \"r\") as file: # Use file to refer to the file object\r\n",
        "    raw_data = file.read() # data = [x.strip() for x in file.read().splitlines()]\r\n",
        "\r\n",
        "rules = raw_data"
      ],
      "execution_count": 15,
      "outputs": []
    },
    {
      "cell_type": "markdown",
      "metadata": {
        "id": "TCiFWgp1qFcb"
      },
      "source": [
        "### Solution"
      ]
    },
    {
      "cell_type": "code",
      "metadata": {
        "id": "UxnvHDL8qFcb"
      },
      "source": [
        "rules = \"\"\"striped green bags contain 5 posh indigo bags.\r\n",
        "light yellow bags contain 3 wavy turquoise bags.\r\n",
        "bright lime bags contain 2 striped crimson bags, 3 dull red bags.\r\n",
        "dull blue bags contain 4 posh coral bags, 3 mirrored coral bags, 2 striped fuchsia bags.\r\n",
        "vibrant coral bags contain 2 shiny blue bags, 2 muted gray bags.\r\n",
        "mirrored gold bags contain 2 dotted maroon bags.\"\"\""
      ],
      "execution_count": 16,
      "outputs": []
    },
    {
      "cell_type": "code",
      "metadata": {
        "id": "3z0tHZ4vYnEl"
      },
      "source": [
        "dictionaries = []\r\n",
        "\r\n",
        "for dictionary in rules.split(\"\\n\"):\r\n",
        "    dictionaries.append(dictionary.split(\" \"))\r\n",
        "    \r\n",
        "# dictionaries"
      ],
      "execution_count": 17,
      "outputs": []
    },
    {
      "cell_type": "code",
      "metadata": {
        "id": "ukc6OZLE4zIP",
        "colab": {
          "base_uri": "https://localhost:8080/"
        },
        "outputId": "0187a67a-e40d-491a-daef-8bfb923e81da"
      },
      "source": [
        "with open('/content/drive/MyDrive/Data/AoC-2020/Day07.txt', \"r\") as file_input:\r\n",
        "    lines = file_input.read().splitlines()\r\n",
        "\r\n",
        "def has_shiny_gold(x):\r\n",
        "    if x == \"shiny gold\": \r\n",
        "        return True\r\n",
        "    else:\r\n",
        "        return any(has_shiny_gold(c) for _, c in bags[x]) # ver que es esto\r\n",
        "\r\n",
        "def count_bags(x):\r\n",
        "    return 1 + sum(int(number) * count_bags(colour) for number, colour in bags[x])\r\n",
        "\r\n",
        "bags = {}\r\n",
        "bag_count = 0\r\n",
        "\r\n",
        "for line in lines:\r\n",
        "    colour = re.match(r\"(.+?) bags contain\", line)[1] # Esto es para encontrar los colores\r\n",
        "    #print(colour)\r\n",
        "    bags[colour] = re.findall(r\"(\\d+?) (.+?) bags?\", line) # Esto es para poner los colores de adentro\r\n",
        "    #print(bags[colour])\r\n",
        "\r\n",
        "dict(itertools.islice(bags.items(), 3)) # itertools"
      ],
      "execution_count": 18,
      "outputs": [
        {
          "output_type": "execute_result",
          "data": {
            "text/plain": [
              "{'bright lime': [('2', 'striped crimson'), ('3', 'dull red')],\n",
              " 'light yellow': [('3', 'wavy turquoise')],\n",
              " 'striped green': [('5', 'posh indigo')]}"
            ]
          },
          "metadata": {
            "tags": []
          },
          "execution_count": 18
        }
      ]
    },
    {
      "cell_type": "code",
      "metadata": {
        "id": "uagsumIbdY0Y",
        "colab": {
          "base_uri": "https://localhost:8080/"
        },
        "outputId": "89f25201-9954-46c9-9b14-f74ab94172d9"
      },
      "source": [
        "for bag in bags:\r\n",
        "    if has_shiny_gold(bag): # aca se aplica la primera definicion\r\n",
        "        bag_count += 1\r\n",
        "\r\n",
        "print(\"Part 1: \" + str(bag_count - 1), end = \"\\n\\n\")\r\n",
        "print(\"Part 2: \" + str(count_bags(\"shiny gold\") - 1)) # aca se aplica la segunda definicion"
      ],
      "execution_count": 19,
      "outputs": [
        {
          "output_type": "stream",
          "text": [
            "Part 1: 268\n",
            "\n",
            "Part 2: 7867\n"
          ],
          "name": "stdout"
        }
      ]
    },
    {
      "cell_type": "markdown",
      "metadata": {
        "id": "-Tj39DFIqGFo"
      },
      "source": [
        "## Day 8: Handheld Halting | Advent of Code 2020"
      ]
    },
    {
      "cell_type": "markdown",
      "metadata": {
        "id": "blTj_L8sqGFo"
      },
      "source": [
        "### Data"
      ]
    },
    {
      "cell_type": "code",
      "metadata": {
        "id": "vqGykt96UefS"
      },
      "source": [
        "with open(\"/content/drive/MyDrive/Data/AoC-2020/Day08.txt\", \"r\") as file: # Use file to refer to the file object\r\n",
        "    raw_data = file.read() # data = [x.strip() for x in file.read().splitlines()]\r\n",
        "\r\n",
        "sequence = raw_data"
      ],
      "execution_count": 20,
      "outputs": []
    },
    {
      "cell_type": "markdown",
      "metadata": {
        "id": "QkTaPNgyqGFo"
      },
      "source": [
        "### Solution"
      ]
    },
    {
      "cell_type": "code",
      "metadata": {
        "id": "Vz_0u-BlqGFo"
      },
      "source": [
        "sequence = \"\"\"nop +0\r\n",
        "acc +1\r\n",
        "jmp +4\r\n",
        "acc +3\r\n",
        "jmp -3\r\n",
        "acc -99\r\n",
        "acc +1\r\n",
        "jmp -4\r\n",
        "acc +6\"\"\"\r\n",
        "\r\n"
      ],
      "execution_count": 21,
      "outputs": []
    },
    {
      "cell_type": "code",
      "metadata": {
        "id": "1auBIMHniIyT",
        "colab": {
          "base_uri": "https://localhost:8080/"
        },
        "outputId": "aca24580-704a-46ef-e3cc-c80c7b72b0ab"
      },
      "source": [
        "def instructions(x):\r\n",
        "    operations = []\r\n",
        "    for operation in x.split(\"\\n\"):\r\n",
        "        operations.append([operation.split(\" \")[0], int(operation.split(\" \")[1])])\r\n",
        "    return(operations)\r\n",
        "\r\n",
        "def operations(x):\r\n",
        "    accumulator = 0\r\n",
        "    seen_indexes = set()\r\n",
        "    state = True\r\n",
        "\r\n",
        "    while state:\r\n",
        "        index = 0\r\n",
        "        if index not in seen_indexes:\r\n",
        "            if x[index][0] == \"acc\":\r\n",
        "                accumulator += x[index][1]\r\n",
        "                index += 1\r\n",
        "                seen_indexes.add(index)\r\n",
        "            if x[index][0] == \"jmp\":\r\n",
        "                index += x[index][1]\r\n",
        "                seen_indexes.add(index)\r\n",
        "            if x[index][0] == \"nop\":\r\n",
        "                index += 1\r\n",
        "                seen_indexes.add(index)\r\n",
        "        if index in seen_indexes:\r\n",
        "            state = False\r\n",
        "        \r\n",
        "    return (index, accumulator, seen_indexes)\r\n",
        "\r\n",
        "test = instructions(sequence)\r\n",
        "\r\n",
        "operations(test)"
      ],
      "execution_count": 22,
      "outputs": [
        {
          "output_type": "execute_result",
          "data": {
            "text/plain": [
              "(1, 0, {1})"
            ]
          },
          "metadata": {
            "tags": []
          },
          "execution_count": 22
        }
      ]
    },
    {
      "cell_type": "code",
      "metadata": {
        "id": "a5DRxY-7mmJt",
        "colab": {
          "base_uri": "https://localhost:8080/",
          "height": 231
        },
        "outputId": "011190a7-4486-41a7-fe3a-cb513b4d0f5f"
      },
      "source": [
        "  \r\n",
        "instructions = [line.strip() for line in open('Data - Day 8.txt', 'r')]\r\n",
        "# ACC = 0\r\n",
        "# def part1():\r\n",
        "#     global ACC\r\n",
        "#     completedIndexes = []\r\n",
        "#     lineIndex = 0\r\n",
        "#     while lineIndex < len(instructions):\r\n",
        "#         # first test to make sure if this line has been repeated\r\n",
        "#         if lineIndex in completedIndexes:\r\n",
        "#             print(\"Loop detected. ACC value is \", ACC)\r\n",
        "#             break\r\n",
        "#         else:\r\n",
        "#             # no loop detected, execute instruction\r\n",
        "#             completedIndexes.append(lineIndex)\r\n",
        "#             instruction, value = instructions[lineIndex].split(\" \")\r\n",
        "#             value = int(value)\r\n",
        "#             if instruction == \"acc\":\r\n",
        "#                 ACC += value\r\n",
        "#                 lineIndex += 1\r\n",
        "#             elif instruction == \"jmp\":\r\n",
        "#                 lineIndex += value\r\n",
        "#             elif instruction == \"nop\":\r\n",
        "#                 lineIndex += 1\r\n",
        "\r\n",
        "# part1()\r\n",
        "\r\n",
        "instructions"
      ],
      "execution_count": 23,
      "outputs": [
        {
          "output_type": "error",
          "ename": "FileNotFoundError",
          "evalue": "ignored",
          "traceback": [
            "\u001b[0;31m---------------------------------------------------------------------------\u001b[0m",
            "\u001b[0;31mFileNotFoundError\u001b[0m                         Traceback (most recent call last)",
            "\u001b[0;32m<ipython-input-23-84ad2c755898>\u001b[0m in \u001b[0;36m<module>\u001b[0;34m()\u001b[0m\n\u001b[1;32m      1\u001b[0m \u001b[0;34m\u001b[0m\u001b[0m\n\u001b[0;32m----> 2\u001b[0;31m \u001b[0minstructions\u001b[0m \u001b[0;34m=\u001b[0m \u001b[0;34m[\u001b[0m\u001b[0mline\u001b[0m\u001b[0;34m.\u001b[0m\u001b[0mstrip\u001b[0m\u001b[0;34m(\u001b[0m\u001b[0;34m)\u001b[0m \u001b[0;32mfor\u001b[0m \u001b[0mline\u001b[0m \u001b[0;32min\u001b[0m \u001b[0mopen\u001b[0m\u001b[0;34m(\u001b[0m\u001b[0;34m'Data - Day 8.txt'\u001b[0m\u001b[0;34m,\u001b[0m \u001b[0;34m'r'\u001b[0m\u001b[0;34m)\u001b[0m\u001b[0;34m]\u001b[0m\u001b[0;34m\u001b[0m\u001b[0;34m\u001b[0m\u001b[0m\n\u001b[0m\u001b[1;32m      3\u001b[0m \u001b[0;31m# ACC = 0\u001b[0m\u001b[0;34m\u001b[0m\u001b[0;34m\u001b[0m\u001b[0;34m\u001b[0m\u001b[0m\n\u001b[1;32m      4\u001b[0m \u001b[0;31m# def part1():\u001b[0m\u001b[0;34m\u001b[0m\u001b[0;34m\u001b[0m\u001b[0;34m\u001b[0m\u001b[0m\n\u001b[1;32m      5\u001b[0m \u001b[0;31m#     global ACC\u001b[0m\u001b[0;34m\u001b[0m\u001b[0;34m\u001b[0m\u001b[0;34m\u001b[0m\u001b[0m\n",
            "\u001b[0;31mFileNotFoundError\u001b[0m: [Errno 2] No such file or directory: 'Data - Day 8.txt'"
          ]
        }
      ]
    },
    {
      "cell_type": "code",
      "metadata": {
        "id": "8Knmcor2IIZl"
      },
      "source": [
        ""
      ],
      "execution_count": null,
      "outputs": []
    }
  ]
}